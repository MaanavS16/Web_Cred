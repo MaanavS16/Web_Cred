{
  "nbformat": 4,
  "nbformat_minor": 0,
  "metadata": {
    "colab": {
      "name": "DataDayGrind_Articles.ipynb",
      "provenance": []
    },
    "kernelspec": {
      "name": "python3",
      "display_name": "Python 3"
    },
    "accelerator": "GPU"
  },
  "cells": [
    {
      "cell_type": "markdown",
      "metadata": {
        "id": "w2f0mUpOT2MD",
        "colab_type": "text"
      },
      "source": [
        "Acknowledgements\n",
        "\n",
        "Ahmed H, Traore I, Saad S. “Detecting opinion spams and fake news using text classification”, Journal of Security and Privacy, Volume 1, Issue 1, Wiley, January/February 2018.\n",
        "\n",
        "Ahmed H, Traore I, Saad S. (2017) “Detection of Online Fake News Using N-Gram Analysis and Machine Learning Techniques. In: Traore I., Woungang I., Awad A. (eds) Intelligent, Secure, and Dependable Systems in Distributed and Cloud Environments. ISDDC 2017. Lecture Notes in Computer Science, vol 10618. Springer, Cham (pp. 127-138)."
      ]
    },
    {
      "cell_type": "code",
      "metadata": {
        "id": "Dgu6H1X3FqOd",
        "colab_type": "code",
        "colab": {
          "base_uri": "https://localhost:8080/",
          "height": 85
        },
        "outputId": "b387f50a-3c49-4061-f850-bb8318acc14e"
      },
      "source": [
        "import csv\n",
        "#  Parses through data\n",
        "RealData = []\n",
        "RealLabels = []\n",
        "with open(\"Real.csv\") as csvfile:\n",
        "  reader = csv.reader(csvfile, delimiter= \",\")\n",
        "  next(reader)  # Removes title row\n",
        "  for row in reader:\n",
        "    RealData.append(row[0])  # Appends the title of the article\n",
        "    RealLabels.append([0, 1])  # Appends a sequence that represents the Real label\n",
        "FakeData = []\n",
        "FakeLabels = []\n",
        "with open(\"Fake.csv\") as csvfile:\n",
        "  reader = csv.reader(csvfile, delimiter = \",\")\n",
        "  next(reader)  # Removes title row\n",
        "  for row in reader:\n",
        "    FakeData.append(row[0])  # Appends the title of the article\n",
        "    FakeLabels.append([1, 0])  # Appends a sequence that represents the Fake label\n",
        "print(len(RealData))\n",
        "print(len(FakeData))\n",
        "print(RealData[0])\n",
        "print(FakeData[0])\n"
      ],
      "execution_count": null,
      "outputs": [
        {
          "output_type": "stream",
          "text": [
            "21417\n",
            "23481\n",
            "As U.S. budget fight looms, Republicans flip their fiscal script\n",
            " Donald Trump Sends Out Embarrassing New Year’s Eve Message; This is Disturbing\n"
          ],
          "name": "stdout"
        }
      ]
    },
    {
      "cell_type": "code",
      "metadata": {
        "id": "koo9HZCLMdEJ",
        "colab_type": "code",
        "colab": {}
      },
      "source": [
        "# Makes a 70:30 train-validation data split\n",
        "split = 0.7  \n",
        "RealDataTrain = RealData[:round(len(RealData)*split)]\n",
        "RealDataTrainLabels = RealLabels[:round(len(RealLabels)*split)]\n",
        "RealDataVal = RealData[round(len(RealData)*split):]\n",
        "RealDataValLabels = RealLabels[round(len(RealLabels)*split):]\n",
        "\n",
        "FakeDataTrain = FakeData[:round(len(FakeData)*split)]\n",
        "FakeDataTrainLabels = FakeLabels[:round(len(FakeLabels)*split)]\n",
        "FakeDataVal = FakeData[round(len(FakeData)*split):]\n",
        "FakeDataValLabels = FakeLabels[round(len(FakeLabels)*split):]\n"
      ],
      "execution_count": null,
      "outputs": []
    },
    {
      "cell_type": "code",
      "metadata": {
        "id": "mDIWlS-CTLtU",
        "colab_type": "code",
        "colab": {}
      },
      "source": [
        "# Combines the Real and Fake data into the training dataset/label and validation dataset/label\n",
        "TrainData = []\n",
        "TrainData = RealDataTrain + FakeDataTrain\n",
        "TrainLabels = RealDataTrainLabels + FakeDataTrainLabels\n",
        "ValData = []\n",
        "ValLabels = RealDataValLabels + FakeDataValLabels\n",
        "ValData = RealDataVal + FakeDataVal\n"
      ],
      "execution_count": null,
      "outputs": []
    },
    {
      "cell_type": "code",
      "metadata": {
        "id": "NWj23BMIIHgj",
        "colab_type": "code",
        "colab": {}
      },
      "source": [
        "# Specifies parameters needed for Natural Language Processing\n",
        "vocab_size = 1000\n",
        "embedding_dim = 16\n",
        "max_length = 30\n",
        "trunc_type='post'\n",
        "oov_tok='<OOV>'\n",
        "\n",
        "from tensorflow.keras.preprocessing.text import Tokenizer\n",
        "from tensorflow.keras.preprocessing.sequence import pad_sequences\n",
        "\n",
        "# Takes the string data and serializes it into a format able to be given to the model\n",
        "tokenizer = Tokenizer(num_words = vocab_size, oov_token = oov_tok)\n",
        "tokenizer.fit_on_texts(TrainData)\n",
        "word_index = tokenizer.word_index\n",
        "sequences = tokenizer.texts_to_sequences(TrainData)\n",
        "padded = pad_sequences(sequences, maxlen=max_length, truncating=trunc_type)\n",
        "\n",
        "testing_sequences = tokenizer.texts_to_sequences(ValData)\n",
        "testing_padded = pad_sequences(testing_sequences, maxlen=max_length, truncating=trunc_type)\n"
      ],
      "execution_count": null,
      "outputs": []
    },
    {
      "cell_type": "code",
      "metadata": {
        "id": "E29eOiPLXm6k",
        "colab_type": "code",
        "colab": {
          "base_uri": "https://localhost:8080/",
          "height": 68
        },
        "outputId": "33c542e0-587f-4dd8-967b-050c781baa1e"
      },
      "source": [
        "# Shows a random sample of a training data value and label\n",
        "import random as rnd\n",
        "randIndex = rnd.randrange(0, len(TrainData))\n",
        "print(randIndex)\n",
        "print(TrainData[randIndex])\n",
        "TrainLabels[randIndex]\n",
        "if TrainLabels[randIndex][0] == 0:\n",
        "  print(\"Real\")\n",
        "else:\n",
        "  print(\"Fake\")\n",
        "  "
      ],
      "execution_count": null,
      "outputs": [
        {
          "output_type": "stream",
          "text": [
            "1619\n",
            "U.S. Commerce chief says expanded North Korean sanctions show China's waning support: CNBC\n",
            "Real\n"
          ],
          "name": "stdout"
        }
      ]
    },
    {
      "cell_type": "code",
      "metadata": {
        "id": "NjNke23yXp1z",
        "colab_type": "code",
        "colab": {
          "base_uri": "https://localhost:8080/",
          "height": 357
        },
        "outputId": "8c8e5aa0-6765-486e-9acb-01f117f30843"
      },
      "source": [
        "# The model uses Embedding and LSTM layers, followed by Dense layers\n",
        "import tensorflow as tf\n",
        "\n",
        "model = tf.keras.Sequential([tf.keras.layers.Embedding(vocab_size, embedding_dim, input_length=max_length),\n",
        "                             tf.keras.layers.Bidirectional(tf.keras.layers.LSTM(32, return_sequences=True)),\n",
        "                             tf.keras.layers.Bidirectional(tf.keras.layers.LSTM(64)),\n",
        "                             tf.keras.layers.Dense(512, activation = 'relu'),\n",
        "                             tf.keras.layers.Dense(128, activation='relu'),\n",
        "                             tf.keras.layers.Dense(2, activation = 'softmax')])\n",
        "\n",
        "model.compile(loss =\"categorical_crossentropy\", optimizer='adam', metrics=['acc'])\n",
        "model.summary()\n"
      ],
      "execution_count": null,
      "outputs": [
        {
          "output_type": "stream",
          "text": [
            "Model: \"sequential\"\n",
            "_________________________________________________________________\n",
            "Layer (type)                 Output Shape              Param #   \n",
            "=================================================================\n",
            "embedding (Embedding)        (None, 30, 16)            16000     \n",
            "_________________________________________________________________\n",
            "bidirectional (Bidirectional (None, 30, 64)            12544     \n",
            "_________________________________________________________________\n",
            "bidirectional_1 (Bidirection (None, 128)               66048     \n",
            "_________________________________________________________________\n",
            "dense (Dense)                (None, 512)               66048     \n",
            "_________________________________________________________________\n",
            "dense_1 (Dense)              (None, 128)               65664     \n",
            "_________________________________________________________________\n",
            "dense_2 (Dense)              (None, 2)                 258       \n",
            "=================================================================\n",
            "Total params: 226,562\n",
            "Trainable params: 226,562\n",
            "Non-trainable params: 0\n",
            "_________________________________________________________________\n"
          ],
          "name": "stdout"
        }
      ]
    },
    {
      "cell_type": "code",
      "metadata": {
        "id": "z1cddJiEYX60",
        "colab_type": "code",
        "colab": {
          "base_uri": "https://localhost:8080/",
          "height": 357
        },
        "outputId": "8510bdd0-384c-4ef2-bf18-591f4b4926c4"
      },
      "source": [
        "# The model is trained\n",
        "import numpy as np\n",
        "history = model.fit(padded, np.array(TrainLabels), epochs=10, validation_data=(testing_padded, np.array(ValLabels)))\n"
      ],
      "execution_count": null,
      "outputs": [
        {
          "output_type": "stream",
          "text": [
            "Epoch 1/10\n",
            "983/983 [==============================] - 14s 15ms/step - loss: 0.1575 - acc: 0.9374 - val_loss: 0.1826 - val_acc: 0.9308\n",
            "Epoch 2/10\n",
            "983/983 [==============================] - 13s 13ms/step - loss: 0.1032 - acc: 0.9619 - val_loss: 0.1654 - val_acc: 0.9348\n",
            "Epoch 3/10\n",
            "983/983 [==============================] - 13s 13ms/step - loss: 0.0886 - acc: 0.9672 - val_loss: 0.1610 - val_acc: 0.9357\n",
            "Epoch 4/10\n",
            "983/983 [==============================] - 13s 13ms/step - loss: 0.0821 - acc: 0.9694 - val_loss: 0.1819 - val_acc: 0.9376\n",
            "Epoch 5/10\n",
            "983/983 [==============================] - 13s 13ms/step - loss: 0.0735 - acc: 0.9738 - val_loss: 0.1774 - val_acc: 0.9395\n",
            "Epoch 6/10\n",
            "983/983 [==============================] - 13s 13ms/step - loss: 0.0675 - acc: 0.9749 - val_loss: 0.1665 - val_acc: 0.9376\n",
            "Epoch 7/10\n",
            "983/983 [==============================] - 13s 13ms/step - loss: 0.0624 - acc: 0.9768 - val_loss: 0.1812 - val_acc: 0.9390\n",
            "Epoch 8/10\n",
            "983/983 [==============================] - 13s 13ms/step - loss: 0.0581 - acc: 0.9780 - val_loss: 0.1702 - val_acc: 0.9394\n",
            "Epoch 9/10\n",
            "983/983 [==============================] - 13s 13ms/step - loss: 0.0558 - acc: 0.9799 - val_loss: 0.1736 - val_acc: 0.9418\n",
            "Epoch 10/10\n",
            "983/983 [==============================] - 13s 13ms/step - loss: 0.0531 - acc: 0.9804 - val_loss: 0.1678 - val_acc: 0.9396\n"
          ],
          "name": "stdout"
        }
      ]
    },
    {
      "cell_type": "code",
      "metadata": {
        "id": "5o4ofFATbzaz",
        "colab_type": "code",
        "colab": {
          "base_uri": "https://localhost:8080/",
          "height": 68
        },
        "outputId": "1e0d27a3-103d-44ba-9c70-6bd1470815a1"
      },
      "source": [
        "# Tests our model on a random piece of validation data\n",
        "import random as rnd\n",
        "randIndex = rnd.randrange(0, len(ValData))\n",
        "testStringSequence = tokenizer.texts_to_sequences([ValData[randIndex]])\n",
        "paddedSequence = pad_sequences(testStringSequence, maxlen=max_length, truncating=trunc_type)\n",
        "print(ValData[randIndex])\n",
        "probabilities = model.predict(paddedSequence)[0]\n",
        "print(probabilities)\n",
        "if probabilities[0] > probabilities[1]:\n",
        "  print(\"Fake\")\n",
        "else:\n",
        "  print(\"Real\")\n"
      ],
      "execution_count": null,
      "outputs": [
        {
          "output_type": "stream",
          "text": [
            "Why Did CNN Doctor Killer’s Photo To Disguise His Race And Why Is The Press Scrubbing His Profile?\n",
            "[9.9951494e-01 4.8503096e-04]\n",
            "Fake\n"
          ],
          "name": "stdout"
        }
      ]
    },
    {
      "cell_type": "code",
      "metadata": {
        "id": "_EZK5kb0exA6",
        "colab_type": "code",
        "colab": {
          "base_uri": "https://localhost:8080/",
          "height": 545
        },
        "outputId": "3613b9b6-648c-41d1-90e1-8a32ca6b0f13"
      },
      "source": [
        "# Graphs the change in accuracy, loss, validation accuracy, and validation loss\n",
        "%matplotlib inline\n",
        "import matplotlib.pyplot as plt\n",
        "acc = history.history['acc']\n",
        "val_acc = history.history['val_acc']\n",
        "loss = history.history['loss']\n",
        "val_loss = history.history['val_loss']\n",
        "\n",
        "epochs = range(len(acc))\n",
        "\n",
        "plt.plot(epochs, acc, 'r', label='Training accuracy')\n",
        "plt.plot(epochs, val_acc, 'b', label='Validation accuracy')\n",
        "plt.title('Training and validation accuracy')\n",
        "plt.legend()\n",
        "plt.figure()\n",
        "\n",
        "plt.plot(epochs, loss, 'r', label='Training Loss')\n",
        "plt.plot(epochs, val_loss, 'b', label='Validation Loss')\n",
        "plt.title('Training and validation loss')\n",
        "plt.legend()\n",
        "\n",
        "plt.show()\n"
      ],
      "execution_count": null,
      "outputs": [
        {
          "output_type": "display_data",
          "data": {
            "image/png": "[encoded data removed]",
            "text/plain": [
              "<Figure size 432x288 with 1 Axes>"
            ]
          },
          "metadata": {
            "tags": [],
            "needs_background": "light"
          }
        },
        {
          "output_type": "display_data",
          "data": {
            "image/png": "[encoded data removed]",
            "text/plain": [
              "<Figure size 432x288 with 1 Axes>"
            ]
          },
          "metadata": {
            "tags": [],
            "needs_background": "light"
          }
        }
      ]
    },
    {
      "cell_type": "code",
      "metadata": {
        "id": "P9NLRYnscWND",
        "colab_type": "code",
        "colab": {}
      },
      "source": [
        "# Exports the model into an h5 file\n",
        "model.save('Articles.h5') \n"
      ],
      "execution_count": null,
      "outputs": []
    },
    {
      "cell_type": "code",
      "metadata": {
        "id": "JNsJWn4cfVZp",
        "colab_type": "code",
        "colab": {}
      },
      "source": [
        "import pickle as pkl\n",
        "fileDump = open(\"articlesTokenizer.pkl\", \"wb\")\n",
        "pkl.dump(tokenizer, fileDump)"
      ],
      "execution_count": null,
      "outputs": []
    }
  ]
}