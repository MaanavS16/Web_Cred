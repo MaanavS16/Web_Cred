{
  "nbformat": 4,
  "nbformat_minor": 0,
  "metadata": {
    "colab": {
      "name": "DataDayGrind_Jobs.ipynb",
      "provenance": [],
      "collapsed_sections": []
    },
    "kernelspec": {
      "name": "python3",
      "display_name": "Python 3"
    },
    "accelerator": "GPU"
  },
  "cells": [
    {
      "cell_type": "code",
      "metadata": {
        "id": "ZRVfWjqJ65U5",
        "colab_type": "code",
        "colab": {}
      },
      "source": [
        "# Designed for MLH Data Day Grind Hackathon\n",
        "# Webcred.tech\n",
        "# Use NLP to detect fake job listings\n",
        "\n",
        "import tensorflow as tf\n",
        "import numpy as np\n",
        "import matplotlib.pyplot as plt\n",
        "\n"
      ],
      "execution_count": null,
      "outputs": []
    },
    {
      "cell_type": "code",
      "metadata": {
        "id": "YZRkOL9uBdBd",
        "colab_type": "code",
        "colab": {}
      },
      "source": [
        "import csv\n",
        "import os\n",
        "\n",
        "labels = []\n",
        "textFeatures = []\n",
        "\n",
        "with open('/content/fake_job_postings.csv') as csvfile:\n",
        "  reader = csv.reader(csvfile, delimiter=',')\n",
        "  next(reader)\n",
        "  for row in reader:\n",
        "    feature = []\n",
        "    # job title, department name, company name, description, requirements\n",
        "    textFeatures.append(str(row[1]) + \" \" + str(row[3]) + \" \" + str(row[5]) + \" \" + str(row[6]) + \" \" + str(row[7]))\n",
        "\n",
        "    # define for categorical crossentropy\n",
        "    itemLabel = [0,0]\n",
        "    itemLabel[int(row[-1])] = 1\n",
        "    labels.append(itemLabel)\n",
        "\n",
        "\n"
      ],
      "execution_count": null,
      "outputs": []
    },
    {
      "cell_type": "code",
      "metadata": {
        "id": "eAxXPZwHPiwE",
        "colab_type": "code",
        "colab": {}
      },
      "source": [
        "# split data into training and validation sets\n",
        "splitProp = .7\n",
        "splitIndex = round(len(textFeatures) * splitProp)\n",
        "\n",
        "allText = textFeatures\n",
        "allLabels = labels\n",
        "\n",
        "trainingText = allText[:splitIndex]\n",
        "validationText = allText[splitIndex:]\n",
        "trainingLabels = allLabels[:splitIndex]\n",
        "validationLabels = allLabels[splitIndex:]"
      ],
      "execution_count": null,
      "outputs": []
    },
    {
      "cell_type": "code",
      "metadata": {
        "id": "LEvcvMyJSK6k",
        "colab_type": "code",
        "colab": {
          "base_uri": "https://localhost:8080/",
          "height": 165
        },
        "outputId": "bbb6a61e-d297-4edb-90f4-bf42a5605bbc"
      },
      "source": [
        "# preview text format\n",
        "print(np.array(allText))"
      ],
      "execution_count": null,
      "outputs": [
        {
          "output_type": "stream",
          "text": [
            "[\"Marketing Intern Marketing We're Food52, and we've created a groundbreaking and award-winning cooking site. We support, connect, and celebrate home cooks, and give them everything they need in one place.We have a top editorial, business, and engineering team. We're focused on using technology to find new and better ways to connect people around their specific food interests, and to offer them superb, highly curated information about food and cooking. We attract the most talented home cooks and contributors in the country; we also publish well-known professionals like Mario Batali, Gwyneth Paltrow, and Danny Meyer. And we have partnerships with Whole Foods Market and Random House.Food52 has been named the best food website by the James Beard Foundation and IACP, and has been featured in the New York Times, NPR, Pando Daily, TechCrunch, and on the Today Show.We're located in Chelsea, in New York City. Food52, a fast-growing, James Beard Award-winning online food community and crowd-sourced and curated recipe hub, is currently interviewing full- and part-time unpaid interns to work in a small team of editors, executives, and developers in its New York City headquarters.Reproducing and/or repackaging existing Food52 content for a number of partner sites, such as Huffington Post, Yahoo, Buzzfeed, and more in their various content management systemsResearching blogs and websites for the Provisions by Food52 Affiliate ProgramAssisting in day-to-day affiliate program support, such as screening affiliates and assisting in any affiliate inquiriesSupporting with PR &amp; Events when neededHelping with office administrative work, such as filing, mailing, and preparing for meetingsWorking with developers to document bugs and suggest improvements to the siteSupporting the marketing and executive staff Experience with content management systems a major plus (any blogging counts!)Familiar with the Food52 editorial voice and aestheticLoves food, appreciates the importance of home cooking and cooking with the seasonsMeticulous editor, perfectionist, obsessive attention to detail, maddened by typos and broken links, delighted by finding and fixing themCheerful under pressureExcellent communication skillsA+ multi-tasker and juggler of responsibilities big and smallInterested in and engaged with social media like Twitter, Facebook, and PinterestLoves problem-solving and collaborating to drive Food52 forwardThinks big picture but pitches in on the nitty gritty of running a small company (dishes, shopping, administrative support)Comfortable with the realities of working for a startup: being on call on evenings and weekends, and working long hours\"\n",
            " \"Customer Service - Cloud Video Production Success 90 Seconds, the worlds Cloud Video Production Service.90 Seconds is the worlds Cloud Video Production Service enabling brands and agencies to get high quality online video content shot and produced anywhere in the world. 90 Seconds makes video production fast, affordable, and all managed seamlessly in the cloud from purchase to publish. http://90#URL_fbe6559afac620a3cd2c22281f7b8d0eef56a73e3d9a311e2f1ca13d081dd630#90 Seconds removes the hassle, cost, risk and speed issues of working with regular video production companies by managing every aspect of video projects in a beautiful online experience. With a growing global network of over 2,000 rated video professionals in over 50 countries managed by dedicated production success teams in 5 countries, 90 Seconds provides a 100% success guarantee.90 Seconds has produced almost 4,000 videos in over 30 Countries for over 500 Global brands including some of the worlds largest including Paypal, L’Oreal, Sony and Barclays and has offices in Auckland, London, Sydney, Tokyo and Singapore.http://90#URL_fbe6559afac620a3cd2c22281f7b8d0eef56a73e3d9a311e2f1ca13d081dd630#\\xa0|\\xa0http://90#URL_e2ad0bde3f09a0913a486abdbb1e6ac373bb3310f64b1fbcf550049bcba4a17b#\\xa0| http://90#URL_8c5dd1806f97ab90876d9daebeb430f682dbc87e2f01549b47e96c7bff2ea17e#\\xa0 Organised - Focused - Vibrant - Awesome!Do you have a passion for customer service? Slick typing skills? Maybe Account Management? ...And think administration is cooler than a polar bear on a jetski? Then we need to hear you!\\xa0We are the Cloud Video Production Service and opperating on a glodal level. Yeah, it's pretty cool. Serious about\\xa0delivering a world class product and excellent customer service.Our rapidly expanding business is looking for a talented Project Manager to manage the successful delivery of video projects, manage client communications and drive the production process. Work with some of the coolest brands on the planet and learn from a global team that are representing NZ is a huge way!We are entering the next growth stage of our business and growing quickly internationally. \\xa0Therefore, the position is bursting with opportunity for the right person entering the business at the right time.\\xa090 Seconds, the worlds Cloud Video Production Service -\\xa0http://90#URL_fbe6559afac620a3cd2c22281f7b8d0eef56a73e3d9a311e2f1ca13d081dd630#90 Seconds is the worlds Cloud Video Production Service enabling brands and agencies to get high quality online video content shot and produced anywhere in the world. Fast, affordable, and all managed seamlessly in the cloud from purchase to publish.\\xa090 Seconds removes the hassle, cost, risk and speed issues of working with regular video production companies by managing every aspect of video projects in a beautiful online experience. \\xa0With a growing network of over 2,000 rated video professionals in over 50 countries and dedicated production success teams in 5 countries guaranteeing video project success 100%. It's as easy as commissioning a quick google adwords campaign.90 Seconds has produced almost 4,000 videos in over 30 Countries for over 500 Global brands including some of the worlds largest including Paypal, L'oreal, Sony and Barclays and has offices in Auckland, London, Sydney, Tokyo &amp; Singapore.Our Auckland office is based\\xa0right in the heart of the Wynyard Quarter Innovation Precinct - GridAKL!\\xa0 What we expect from you:Your key responsibility will be to communicate with the client, 90 Seconds team and freelance community throughout the video production process including, shoot planning, securing freelance talent, managing workflow and the online production management system. \\xa0The aim is to manage each video project effectively so that we produce great videos that our clients love.Key\\xa0attributesClient focused\\xa0- excellent customer service and communication skillsOnline -\\xa0oustanding computer knowledge and experience using online software and project management toolsOrganised\\xa0- manage workload and able to multi-task100% attention to detailMotivated -\\xa0self-starter with a passion for doing excellent work and achieving great resultsAdaptable\\xa0- show initiative and think on your feet as this is a constantly evolving atmosphereFlexible\\xa0- fast turnaround work and after hours availabilityEasy going\\xa0&amp; upbeat\\xa0- dosen't get bogged down and loves the challengeSense of Humour\\xa0- have a laugh and know that working in a startup takes guts!Ability to deliver\\xa0- including meeting project deadlines and budgetAttitude is more important than experience at 90 Seconds, however previous experience in customer service and/or project management is beneficialPlease view our platform / website at\\xa0#URL_395a8683a907ce95f49a12fb240e6e47ad8d5a4f96d07ebbd869c4dd4dea1826#\\xa0and get a clear understand about what we do before reaching out.\"\n",
            " \"Commissioning Machinery Assistant (CMA)  Valor Services provides Workforce Solutions that meet the needs of companies across the Private Sector, with a special focus on the Oil &amp; Gas Industry.\\xa0Valor Services will be involved with you throughout every step of the hiring process and remain in contact with you all the way through the final step of signing of the employment contract with your new employer.\\xa0Valor Services was founded with the vision of employing the unique skills, experiences, and qualities of America’s finest veterans to provide Private Sector companies with precise and concerted value-added services – and America’s finest Veterans with an optimized career opportunity.We are eager to get the word out to veterans that there are ample opportunities for employment in the private sector and that you are the ideal candidates to fill those positions.\\xa0Valor Services\\xa0Your Success is Our Mission.\\xa0™\\xa0 Our client, located in Houston, is actively seeking an experienced Commissioning Machinery Assistant that possesses strong supervisory skills and has an attention to detail. A strong dedication to safety is a must. The ideal candidate will execute all activities while complying with quality requirements and health, environmental, and safety regulations. Implement pre-commissioning and commissioning procedures for rotary equipment.Execute all activities with subcontractor’s assigned crew that pertains to the discipline.Ensure effective utilization of commissioning manpower and consumables.Ensure the execution of vendor specialists' field activities with the assigned resources from the sub-contractor per vendor’s representative plans.Carry out equipment inspections with client representatives and ensure proper certification is produced.Prepare forms for all pending tests and submit signed certificates for final hand over to the certification engineer for QA and QC.Coordinate in the field with vendor representatives.Keep records of all activities.Ensure that safety practices are strictly followed during the execution of activities.Report progress and constraints to the mechanical supervisor.Possible authorization by site manager to receive or issue a Permit To Work according to project Permit To Work procedures.Assist supervisor to expedite pending punch-list items in accordance with the commissioning manager’s priorities.Assist supervisor to coordinate and supervise construction-support activities during pre-commissioning and commissioning activities.Company Overview:Our client is a premiere engineering, construction, and procurement company that executes large-scale projects internationally.\"\n",
            " ...\n",
            " 'Project Cost Control Staff Engineer - Cost Control Exp - TX  We Provide Full Time Permanent Positions for many medium to large US companies. We are interested in finding/recruiting high quality candidates in IT, Engineering, Manufacturing and other highly technical and non-technical jobs. Experienced Project Cost Control Staff Engineer is required having responsibility to provide proper variance explanation and root causes analysis of changes\\xa0D - 166Job Responsibilities:\\xa0Cost Control for large capital investments of various size and complexityActive participation in the overall cost control process.\\xa0Ensure proper progress tracking and change management systems are in place and effectively functioning in construction and detailed engineering phases of projects.Provide proper variance explanation and root causes analysis of changesDevelopment of project cost forecast and preparation of project cost reportsAssist in the development and improvement of cost controlling tools and processes.Strong analytical skills that will allow proper assessments of projects to identify potential issues.\\xa0Able support development and recommend solutions via communication and support with Project Management.Perform studies and analysisPerform bid analysis for complex service contractsPerform audits of invoicesEvaluate field change orders and validate contractor estimate and pricingDevelopment and support of contracting strategy for large capital projectsWill be required to work both independently and with a team in carrying out a project’s cost control and forecasting\\xa0 efforts\\xa0 At least 12 years professional experience.Ability to work in a diverse team environmentA minimum of 8 years of experience in project cost control with a working knowledge of engineering, procurement, accounting, and construction practicesAvailable for 25% travel to support the businessStrong Analytical skillsExcellent computer skillsExcellent quality orientation and attention to detailGood communication skills\\xa0Educational Qualifications:\\xa0BS Degree in Engineering, Construction Management, Finance, Accounting, Business Management or Mathematics\\xa0We Provide Full Time Permanent Positions for many medium to large US companies. We have more than 1500 jobs available in our website. Our website has thousands of openings and these job openings are not posted anywhere else online. When you apply online through our website, it automatically forwards your information to the recruiter handling your applied job. If you are a close match, they will contact you immediately to discuss about the positions and do everything to get you an interview with the client as quickly as possible.\\xa0Visit\\xa0 : #URL_ec64af2b4fe2ca316e828f93b0cd098c22f8beba98dcac09d4dd7384b221a5e8#-#URL_9753a54b28303bf636a2816399b9c255d76fabb791336a4c748da2611a23264f#\\xa0'\n",
            " 'Graphic Designer   Nemsia Studios is looking for an experienced visual/graphic designer to join our Lagos office. The idealcandidate will be versatile in both print and digital design mediums. Working closely with our Strategists and creative team you will be engaged on projects from the pitch phase through brainstorming, concepting, and design to execution and final delivery. You will bring your all to\\xa0creating and crafting BEAUTIFUL visual expressions of ideas and briefs. We will always have ongoing internal projects. 1. Must be fluent in the latest versions of Corel &amp; Adobe CC (Esp. Photoshop, Illustrator &amp; Indesign) 2. Have a strong interest in interactive/interface design 3. Understand color theory, typography, composition and photo retouching 4. Be able to take design direction 5. Must think creatively and step outside of the norm 6. Be willing to put in the extra time and effort on projects 7. Eager to learn and have a great attitude 8. Be self-sufficient and able to figure problems out on your own'\n",
            " \"Web Application Developers Engineering Vend is looking for some awesome new talent to come join us. You'll be working in an awesome team doing awesome things, and generally being awesome.Learn about us on our\\xa0blog, or meet the team on\\xa0Twitter,\\xa0Facebook,\\xa0LinkedInAwesome SpaceOur brand new Auckland office space is located on Nuffield Street in Newmarket, surrounded by our customers and the industry we love. It is huge, open, and shiny new with great meeting room spaces, casual working environments and plenty of space to host awesome events. We don't do cubicles, just plenty of space, whiteboards and meetings rooms. We also have a great cafe/retail space with our very own Front of House Manager taking care of our visitors and fellow Venders.\\xa0Like Auckland our Melbourne office is surrounded by retail. It's a great wee space equipped with tiny houses and some awesome cardboard cutout animals.Our Toronto office is located right in the heart of downtown retail district. Like Melbourne and Auckland there's a great vibe with great coffee, boutique stores and some of the greatest restaurants in the city.\\xa0Our SoMa office in San Francisco is located in the middle of the SF tech scene, just a (Biz) stone's throw from Twitter.The EnvironmentWe want you to be at the top of your game. You can wear whatever clothing you like, start work late in the morning, take breaks whenever you want and generally work the way you want to work.\\xa0Who we're looking forVend is looking for people to push the boundaries. We are a hard working professional team with a wicked sense of humour, and we are looking for people who thrive in a collaborative open environment. We want passionate, hard working, talented individuals that want to lead in their field. Who are we?Vend is an award winning web based point of sale software for retail.\\xa0 We’re chucking out crusty old cash registers and replacing them with iPads, touch screens and beautiful software, all of this to make life easier for our retailers.\\xa0 Vend is a fast-growing tech start-up, since launching in 2010 we’ve now got 10,000+ customers all over the world and have more than 100 employees.\\xa0In case you’re interested in our tech stack we use Capistrano, Redis, Git / Github, Vagrant, Jenkins, Puppet, Resque, New Relic, Doctrine, MySQL, Objective C, PHP, JavaScript, GO, Symfony, Rake, Selenium, Compass, SASS, jQuery, Bundler, Nginx, and a bunch of other things.Why you’d like us:Our engineering department houses some of the smartest minds in NZ, they work tirelessly with our product teams to come up with the best and brightest new features and fixes for the Vend platform. As you can see from our tech stack above, we use the latest and greatest to bring delight to our customers, and want to add members to our team that live and breathe technology just like we do.As well as developing a world-leading product, we believe that our culture is world-leading too! We balance super hard work with having a lot of fun at work! \\xa0Like playing pool, getting a Dia de los Muertos makeover, zoning out on the couches listening to music or raiding the snack cupboard (FYI frozen marshmallows are the latest craze at Vend - seriously, try them!).\\xa0Work-life balance. \\xa0We know you have a life outside of work. We know you probably have little side projects or businesses too. This is valued and at Vend you can have a life inside work to. We’ll also give you a $5,000 allowance per year to develop your skills and attend conferences of your choice. Within reason, of course. We turned down the guy who wanted to use the five large to go to a\\xa0heavy metal concert on a cruise ship.\\xa0 We want to hear from you if:You have an in-depth understanding of OO programmingYou totally get MVC and multi-tier architectureYou have experience with TDD or writing automated testsYou understand relational databases and know how to write SQLYou’ve worked an Agile-style team before and are down with cooperationBonus points if you’ve worked in retail beforeIf this sounds like you then get in touch now and delight us with your unique application! We have HUGE projects in the pipeline this year and need the best talent on-board to help achieve our goals.While Vend is totally open to receiving applications from people based overseas, our recruitment process for technical talent is lengthy and involves a lot of face-to-face time between our candidates and existing team members here. We can start initial stages of interviewing using awesome technology like Skype and Google Hangouts, we really need you to be here and to have hung out with us in Auckland before making a job offer.\"]\n"
          ],
          "name": "stdout"
        }
      ]
    },
    {
      "cell_type": "code",
      "metadata": {
        "id": "0_M4TS-cOukq",
        "colab_type": "code",
        "colab": {}
      },
      "source": [
        "vocab_size = 1000\n",
        "embedding_dim = 24\n",
        "max_length = 100\n",
        "trunc_type='post'\n",
        "oov_tok='<OOV>'\n",
        "\n",
        "from tensorflow.keras.preprocessing.text import Tokenizer\n",
        "from tensorflow.keras.preprocessing.sequence import pad_sequences\n",
        "\n",
        "#tokenize and pad data\n",
        "tokenizer = Tokenizer(num_words = vocab_size, oov_token = oov_tok)\n",
        "tokenizer.fit_on_texts(trainingText)\n",
        "word_index = tokenizer.word_index\n",
        "sequences = tokenizer.texts_to_sequences(trainingText)\n",
        "padded = pad_sequences(sequences, maxlen=max_length, truncating=trunc_type)\n",
        "\n",
        "testing_sequences = tokenizer.texts_to_sequences(validationText)\n",
        "testing_padded = pad_sequences(testing_sequences, maxlen=max_length, truncating=trunc_type)"
      ],
      "execution_count": null,
      "outputs": []
    },
    {
      "cell_type": "code",
      "metadata": {
        "id": "j1rlQKr2P2F9",
        "colab_type": "code",
        "colab": {
          "base_uri": "https://localhost:8080/",
          "height": 165
        },
        "outputId": "93be98c6-4ff0-4bc2-c8d1-c7602489eb3e"
      },
      "source": [
        "#padded token matrix\n",
        "print(testing_padded[20])\n",
        "\n",
        "#original text\n",
        "print(validationText[20])"
      ],
      "execution_count": null,
      "outputs": [
        {
          "output_type": "stream",
          "text": [
            "[  1   1   1   1   1 314 439 355 395 314 440  54   3  71  13   1   4   1\n",
            " 685   3 535   4 947 145   9  29  72  12  75  71 225  29 314   1   2   1\n",
            "  29 588 100  26   1   1   7   1   1   1  11  51   9   6 321   2 376   1\n",
            "   1  37 285  87  17 112   3   1   1   2   1 378   1 148 103  87  17 683\n",
            "   3 583   1   7   1   1   2   1  12 300 147   1   1   2 312  11 697  26\n",
            "  87  17 112   3   1   1  42   1   1 378]\n",
            "TV Satellite Dish Installer  Hawkeye Recruitment provides cost effective recruitment advertising solutions to help you cast the widest net to find the perfect candidate for your job. We can help improve your recruitment efforts, and streamline your hiring process.  Holaday Satellite in Mount Pleasant Iowa is looking for a motivated and experienced Satellite Installer. This individual must be able to install Dish and Directv without supervision. They also must be willing to become certified in installing DishNet and Exede. We offer excellent wages. Van and equipment is provided.  Must be able to install Dish &amp; DirecTV dishes without supervisionWilling to become a certified DishNet and Exede installer\n"
          ],
          "name": "stdout"
        }
      ]
    },
    {
      "cell_type": "code",
      "metadata": {
        "id": "Hb78ZL7xXMJC",
        "colab_type": "code",
        "colab": {
          "base_uri": "https://localhost:8080/",
          "height": 381
        },
        "outputId": "62828eb1-0064-42ec-98b3-3ceefddf33a0"
      },
      "source": [
        "# Network Structure\n",
        "# Embedding Layer maps tokenized words to nth dimensional vector (allows words to be respresented as a position in space)\n",
        "# 2 Bidirectional LSTM layers (allows words to be a factor using cell states)\n",
        "# 3 Dense Layers Simple DNN and Output\n",
        "\n",
        "\n",
        "#create model structure\n",
        "layers = [tf.keras.layers.Embedding(vocab_size, embedding_dim, input_length=max_length),\n",
        "          tf.keras.layers.Bidirectional(tf.keras.layers.LSTM(32, return_sequences=True)),\n",
        "          tf.keras.layers.Bidirectional(tf.keras.layers.LSTM(64)),\n",
        "          tf.keras.layers.Dense(512, activation='relu'),\n",
        "          tf.keras.layers.Dropout(.2),\n",
        "          tf.keras.layers.Dense(2, activation='softmax')]\n",
        "\n",
        "# create model and compile\n",
        "model = tf.keras.models.Sequential(layers)\n",
        "model.compile(optimizer=tf.keras.optimizers.Adam(lr=.0005), loss='categorical_crossentropy', metrics=['accuracy'])\n",
        "model.summary()"
      ],
      "execution_count": null,
      "outputs": [
        {
          "output_type": "stream",
          "text": [
            "Model: \"sequential\"\n",
            "_________________________________________________________________\n",
            "Layer (type)                 Output Shape              Param #   \n",
            "=================================================================\n",
            "embedding (Embedding)        (None, 100, 24)           24000     \n",
            "_________________________________________________________________\n",
            "bidirectional (Bidirectional (None, 100, 64)           14592     \n",
            "_________________________________________________________________\n",
            "bidirectional_1 (Bidirection (None, 128)               66048     \n",
            "_________________________________________________________________\n",
            "dense (Dense)                (None, 512)               66048     \n",
            "_________________________________________________________________\n",
            "dropout (Dropout)            (None, 512)               0         \n",
            "_________________________________________________________________\n",
            "dense_1 (Dense)              (None, 2)                 1026      \n",
            "=================================================================\n",
            "Total params: 171,714\n",
            "Trainable params: 171,714\n",
            "Non-trainable params: 0\n",
            "_________________________________________________________________\n"
          ],
          "name": "stdout"
        }
      ]
    },
    {
      "cell_type": "code",
      "metadata": {
        "id": "qmMZkDkwXNpa",
        "colab_type": "code",
        "colab": {
          "base_uri": "https://localhost:8080/",
          "height": 35
        },
        "outputId": "6ab3d202-8d1e-4a8e-fd91-60e48c4fcde6"
      },
      "source": [
        "history = model.fit(padded, np.array(trainingLabels), epochs=1, validation_data=(testing_padded, np.array(validationLabels)))"
      ],
      "execution_count": null,
      "outputs": [
        {
          "output_type": "stream",
          "text": [
            "392/392 [==============================] - 41s 103ms/step - loss: 0.0495 - accuracy: 0.9847 - val_loss: 0.1115 - val_accuracy: 0.9627\n"
          ],
          "name": "stdout"
        }
      ]
    },
    {
      "cell_type": "code",
      "metadata": {
        "id": "ePpU0b1aY4em",
        "colab_type": "code",
        "colab": {
          "base_uri": "https://localhost:8080/",
          "height": 513
        },
        "outputId": "1839e7e4-7027-4041-a173-9f1d6f28ebd2"
      },
      "source": [
        "loss = history.history['loss']\n",
        "val_loss = history.history['val_loss']\n",
        "acc = history.history['accuracy']\n",
        "val_acc = history.history['val_accuracy']\n",
        "\n",
        "epochs = list(range(len(loss)))\n",
        "\n",
        "plt.figure(1)\n",
        "plt.plot(epochs, loss, label='loss')\n",
        "plt.plot(epochs, val_loss, label='validation loss')\n",
        "plt.legend()\n",
        "plt.figure(2)\n",
        "plt.plot(epochs, acc, label='accuracy')\n",
        "plt.plot(epochs, val_acc, label='validation accuracy')\n",
        "plt.legend()\n",
        "plt.show()\n"
      ],
      "execution_count": null,
      "outputs": [
        {
          "output_type": "display_data",
          "data": {
            "image/png": "[encoded data removed]",
            "text/plain": [
              "<Figure size 432x288 with 1 Axes>"
            ]
          },
          "metadata": {
            "tags": [],
            "needs_background": "light"
          }
        },
        {
          "output_type": "display_data",
          "data": {
            "image/png": "[encoded data removed]",
            "text/plain": [
              "<Figure size 432x288 with 1 Axes>"
            ]
          },
          "metadata": {
            "tags": [],
            "needs_background": "light"
          }
        }
      ]
    },
    {
      "cell_type": "code",
      "metadata": {
        "id": "L1GtgVgDcXi_",
        "colab_type": "code",
        "colab": {
          "base_uri": "https://localhost:8080/",
          "height": 54
        },
        "outputId": "cad4cbab-ac3b-492a-fa6a-6d3482bca457"
      },
      "source": [
        "sequence = tokenizer.texts_to_sequences([\"This job requires you to work for free.\"])\n",
        "paddedSeq = pad_sequences(sequence, maxlen=max_length, truncating=trunc_type)\n",
        "\n",
        "out = model.predict(paddedSeq)[0]\n",
        "prob = 0\n",
        "if out[0] >= .5:\n",
        "  print(\"Not a Scam\")\n",
        "  prob = out[0]\n",
        "else:\n",
        "  print(\"Scam\")\n",
        "  prob = out[1]\n",
        "\n",
        "print(\"with {prob}% confidence\".format(prob = prob*100))\n"
      ],
      "execution_count": null,
      "outputs": [
        {
          "output_type": "stream",
          "text": [
            "Not a Scam\n",
            "with 56.72293305397034% confidence\n"
          ],
          "name": "stdout"
        }
      ]
    },
    {
      "cell_type": "code",
      "metadata": {
        "id": "91K8NTn8DU9y",
        "colab_type": "code",
        "colab": {
          "base_uri": "https://localhost:8080/",
          "height": 54
        },
        "outputId": "f1f8fccc-34c9-4630-f220-8da88726d3e8"
      },
      "source": [
        "e = model.layers[0]\n",
        "weights = e.get_weights()[0]\n",
        "print(weights.shape) # shape: (vocab_size, embedding_dim)\n",
        "\n",
        "def file_len(fname):\n",
        "    with open(fname) as f:\n",
        "        for i, l in enumerate(f):\n",
        "            pass\n",
        "    return i + 1\n",
        "\n",
        "import io\n",
        "\n",
        "inv_tokenizer = {v: k for k, v in word_index.items()}\n",
        "\n",
        "out_v = io.open('vecs.tsv', 'w', encoding='utf-8')\n",
        "out_m = io.open('meta.tsv', 'w', encoding='utf-8')\n",
        "for word_num in range(1, vocab_size):\n",
        "  word = inv_tokenizer.get(word_num)\n",
        "  embeddings = weights[word_num]\n",
        "  out_m.write(word + \"\\n\")\n",
        "  out_v.write('\\t'.join([str(x) for x in embeddings]) + \"\\n\")\n",
        "\n",
        "out_v.close()\n",
        "out_m.close()\n",
        "print(file_len('vecs.tsv'), file_len('meta.tsv'))\n",
        "\n",
        "try:\n",
        "  from google.colab import files\n",
        "except ImportError:\n",
        "  pass\n",
        "else:\n",
        "  files.download('vecs.tsv')\n",
        "  files.download('meta.tsv')"
      ],
      "execution_count": null,
      "outputs": [
        {
          "output_type": "stream",
          "text": [
            "(1000, 24)\n",
            "999 999\n"
          ],
          "name": "stdout"
        },
        {
          "output_type": "display_data",
          "data": {
            "application/javascript": [
              "\n",
              "    async function download(id, filename, size) {\n",
              "      if (!google.colab.kernel.accessAllowed) {\n",
              "        return;\n",
              "      }\n",
              "      const div = document.createElement('div');\n",
              "      const label = document.createElement('label');\n",
              "      label.textContent = `Downloading \"${filename}\": `;\n",
              "      div.appendChild(label);\n",
              "      const progress = document.createElement('progress');\n",
              "      progress.max = size;\n",
              "      div.appendChild(progress);\n",
              "      document.body.appendChild(div);\n",
              "\n",
              "      const buffers = [];\n",
              "      let downloaded = 0;\n",
              "\n",
              "      const channel = await google.colab.kernel.comms.open(id);\n",
              "      // Send a message to notify the kernel that we're ready.\n",
              "      channel.send({})\n",
              "\n",
              "      for await (const message of channel.messages) {\n",
              "        // Send a message to notify the kernel that we're ready.\n",
              "        channel.send({})\n",
              "        if (message.buffers) {\n",
              "          for (const buffer of message.buffers) {\n",
              "            buffers.push(buffer);\n",
              "            downloaded += buffer.byteLength;\n",
              "            progress.value = downloaded;\n",
              "          }\n",
              "        }\n",
              "      }\n",
              "      const blob = new Blob(buffers, {type: 'application/binary'});\n",
              "      const a = document.createElement('a');\n",
              "      a.href = window.URL.createObjectURL(blob);\n",
              "      a.download = filename;\n",
              "      div.appendChild(a);\n",
              "      a.click();\n",
              "      div.remove();\n",
              "    }\n",
              "  "
            ],
            "text/plain": [
              "<IPython.core.display.Javascript object>"
            ]
          },
          "metadata": {
            "tags": []
          }
        },
        {
          "output_type": "display_data",
          "data": {
            "application/javascript": [
              "download(\"download_363851e9-d49a-4667-a342-07ad718f069c\", \"vecs.tsv\", 292478)"
            ],
            "text/plain": [
              "<IPython.core.display.Javascript object>"
            ]
          },
          "metadata": {
            "tags": []
          }
        },
        {
          "output_type": "display_data",
          "data": {
            "application/javascript": [
              "\n",
              "    async function download(id, filename, size) {\n",
              "      if (!google.colab.kernel.accessAllowed) {\n",
              "        return;\n",
              "      }\n",
              "      const div = document.createElement('div');\n",
              "      const label = document.createElement('label');\n",
              "      label.textContent = `Downloading \"${filename}\": `;\n",
              "      div.appendChild(label);\n",
              "      const progress = document.createElement('progress');\n",
              "      progress.max = size;\n",
              "      div.appendChild(progress);\n",
              "      document.body.appendChild(div);\n",
              "\n",
              "      const buffers = [];\n",
              "      let downloaded = 0;\n",
              "\n",
              "      const channel = await google.colab.kernel.comms.open(id);\n",
              "      // Send a message to notify the kernel that we're ready.\n",
              "      channel.send({})\n",
              "\n",
              "      for await (const message of channel.messages) {\n",
              "        // Send a message to notify the kernel that we're ready.\n",
              "        channel.send({})\n",
              "        if (message.buffers) {\n",
              "          for (const buffer of message.buffers) {\n",
              "            buffers.push(buffer);\n",
              "            downloaded += buffer.byteLength;\n",
              "            progress.value = downloaded;\n",
              "          }\n",
              "        }\n",
              "      }\n",
              "      const blob = new Blob(buffers, {type: 'application/binary'});\n",
              "      const a = document.createElement('a');\n",
              "      a.href = window.URL.createObjectURL(blob);\n",
              "      a.download = filename;\n",
              "      div.appendChild(a);\n",
              "      a.click();\n",
              "      div.remove();\n",
              "    }\n",
              "  "
            ],
            "text/plain": [
              "<IPython.core.display.Javascript object>"
            ]
          },
          "metadata": {
            "tags": []
          }
        },
        {
          "output_type": "display_data",
          "data": {
            "application/javascript": [
              "download(\"download_6fb54516-24c6-4432-b723-ccc75814c5f6\", \"meta.tsv\", 7571)"
            ],
            "text/plain": [
              "<IPython.core.display.Javascript object>"
            ]
          },
          "metadata": {
            "tags": []
          }
        }
      ]
    },
    {
      "cell_type": "code",
      "metadata": {
        "id": "0hq5Y17Iq80z",
        "colab_type": "code",
        "colab": {}
      },
      "source": [
        "import pickle as pkl\n",
        "\n",
        "# export model and tokenizer\n",
        "model.save('/content/jobModel.h5')\n",
        "pkl.dump(tokenizer, open('/content/jobTokenizer.pkl', 'wb'))"
      ],
      "execution_count": null,
      "outputs": []
    }
  ]
}